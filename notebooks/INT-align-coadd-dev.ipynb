{
 "cells": [
  {
   "cell_type": "markdown",
   "metadata": {},
   "source": [
    "scratch pad for new program to align and coadd WFC images without using swarp"
   ]
  },
  {
   "cell_type": "code",
   "execution_count": 12,
   "metadata": {},
   "outputs": [],
   "source": [
    "import os\n",
    "import ccdproc as ccdp"
   ]
  },
  {
   "cell_type": "code",
   "execution_count": 8,
   "metadata": {},
   "outputs": [],
   "source": [
    "imagedir='/home/rfinn/data/reduced/scratch-int-feb2019/attempt2/pointing149/'\n"
   ]
  },
  {
   "cell_type": "code",
   "execution_count": 9,
   "metadata": {},
   "outputs": [],
   "source": [
    "homedir = os.getenv(\"HOME\")\n",
    "os.chdir(homedir+'/data/align-coadd-test/')"
   ]
  },
  {
   "cell_type": "code",
   "execution_count": 10,
   "metadata": {},
   "outputs": [],
   "source": [
    "!ls"
   ]
  },
  {
   "cell_type": "code",
   "execution_count": 20,
   "metadata": {},
   "outputs": [],
   "source": [
    "keys = ['naxis1', 'naxis2', 'imagetyp', 'filter', 'exptime','instrmnt']\n",
    "ic = ccdp.ImageFileCollection(imagedir, keywords=keys, glob_include='WFC*.fits',glob_exclude='*test*.fit')"
   ]
  },
  {
   "cell_type": "code",
   "execution_count": 40,
   "metadata": {},
   "outputs": [
    {
     "data": {
      "text/plain": [
       "array(['WFC.Halpha.2019-02-09T06:09:48.8_1PA.fits',\n",
       "       'WFC.Halpha.2019-02-09T06:09:48.8_2PA.fits',\n",
       "       'WFC.Halpha.2019-02-09T06:09:48.8_3PA.fits',\n",
       "       'WFC.Halpha.2019-02-09T06:09:48.8_4PA.fits',\n",
       "       'WFC.Halpha.2019-02-09T06:13:37.8_1PA.fits',\n",
       "       'WFC.Halpha.2019-02-09T06:13:37.8_2PA.fits',\n",
       "       'WFC.Halpha.2019-02-09T06:13:37.8_3PA.fits',\n",
       "       'WFC.Halpha.2019-02-09T06:13:37.8_4PA.fits',\n",
       "       'WFC.Halpha.2019-02-09T06:17:35.8_1PA.fits',\n",
       "       'WFC.Halpha.2019-02-09T06:17:35.8_2PA.fits',\n",
       "       'WFC.Halpha.2019-02-09T06:17:35.8_3PA.fits',\n",
       "       'WFC.Halpha.2019-02-09T06:17:35.8_4PA.fits',\n",
       "       'WFC.Halpha.2019-02-09T06:21:22.7_1PA.fits',\n",
       "       'WFC.Halpha.2019-02-09T06:21:22.7_2PA.fits',\n",
       "       'WFC.Halpha.2019-02-09T06:21:22.7_3PA.fits',\n",
       "       'WFC.Halpha.2019-02-09T06:21:22.7_4PA.fits',\n",
       "       'WFC.Halpha.2019-02-09T06:25:21.9_1PA.fits',\n",
       "       'WFC.Halpha.2019-02-09T06:25:21.9_2PA.fits',\n",
       "       'WFC.Halpha.2019-02-09T06:25:21.9_3PA.fits',\n",
       "       'WFC.Halpha.2019-02-09T06:25:21.9_4PA.fits',\n",
       "       'WFC.Halpha.2019-02-09T06:29:12.7_1PA.fits',\n",
       "       'WFC.Halpha.2019-02-09T06:29:12.7_2PA.fits',\n",
       "       'WFC.Halpha.2019-02-09T06:29:12.7_3PA.fits',\n",
       "       'WFC.Halpha.2019-02-09T06:29:12.7_4PA.fits',\n",
       "       'WFC.Halpha.2019-02-09T06:33:11.1_1PA.fits',\n",
       "       'WFC.Halpha.2019-02-09T06:33:11.1_2PA.fits',\n",
       "       'WFC.Halpha.2019-02-09T06:33:11.1_3PA.fits',\n",
       "       'WFC.Halpha.2019-02-09T06:33:11.1_4PA.fits',\n",
       "       'WFC.Halpha.2019-02-09T06:36:58.1_1PA.fits',\n",
       "       'WFC.Halpha.2019-02-09T06:36:58.1_2PA.fits',\n",
       "       'WFC.Halpha.2019-02-09T06:36:58.1_3PA.fits',\n",
       "       'WFC.Halpha.2019-02-09T06:36:58.1_4PA.fits',\n",
       "       'WFC.Halpha.2019-02-09T06:40:56.5_1PA.fits',\n",
       "       'WFC.Halpha.2019-02-09T06:40:56.5_2PA.fits',\n",
       "       'WFC.Halpha.2019-02-09T06:40:56.5_3PA.fits',\n",
       "       'WFC.Halpha.2019-02-09T06:40:56.5_4PA.fits',\n",
       "       'WFC.Halpha.2019-02-09T06:44:43.3_1PA.fits',\n",
       "       'WFC.Halpha.2019-02-09T06:44:43.3_2PA.fits',\n",
       "       'WFC.Halpha.2019-02-09T06:44:43.3_3PA.fits',\n",
       "       'WFC.Halpha.2019-02-09T06:44:43.3_4PA.fits'], dtype='<U41')"
      ]
     },
     "execution_count": 40,
     "metadata": {},
     "output_type": "execute_result"
    }
   ],
   "source": [
    "(ic.files_filtered(filter='Halpha'))"
   ]
  },
  {
   "cell_type": "code",
   "execution_count": 19,
   "metadata": {},
   "outputs": [
    {
     "name": "stdout",
     "output_type": "stream",
     "text": [
      "GETHEAD: no files specified\r\n"
     ]
    }
   ],
   "source": [
    "!gethead WFC.Halpha.2019-02-09T06:09:48.8_1PA.fits"
   ]
  },
  {
   "cell_type": "code",
   "execution_count": 27,
   "metadata": {},
   "outputs": [],
   "source": [
    "maskdict = {\"'INTWFC{}':mask{}\".format(i,i) for i in range(1,5)}"
   ]
  },
  {
   "cell_type": "code",
   "execution_count": 32,
   "metadata": {},
   "outputs": [
    {
     "data": {
      "text/plain": [
       "'filemane.fits'"
      ]
     },
     "execution_count": 32,
     "metadata": {},
     "output_type": "execute_result"
    }
   ],
   "source": [
    "t='filemane.fits'\n",
    "os.path.basename(t)"
   ]
  },
  {
   "cell_type": "code",
   "execution_count": 45,
   "metadata": {},
   "outputs": [
    {
     "data": {
      "text/plain": [
       "{'Halpha', 'r'}"
      ]
     },
     "execution_count": 45,
     "metadata": {},
     "output_type": "execute_result"
    }
   ],
   "source": [
    "set(ic.summary['filter'])"
   ]
  },
  {
   "cell_type": "markdown",
   "metadata": {},
   "source": [
    "# Trying to use montage\n",
    "\n"
   ]
  },
  {
   "cell_type": "code",
   "execution_count": 46,
   "metadata": {},
   "outputs": [],
   "source": [
    "from MontagePy.main    import *\n",
    "from MontagePy.archive import *\n",
    "\n",
    "from IPython.display import Image\n"
   ]
  },
  {
   "cell_type": "code",
   "execution_count": 51,
   "metadata": {},
   "outputs": [],
   "source": [
    "os.chdir('/home/rfinn/data/reduced/scratch-int-feb2019/attempt2/pointing149')"
   ]
  },
  {
   "cell_type": "code",
   "execution_count": 70,
   "metadata": {},
   "outputs": [],
   "source": [
    "test = mImgtbl(os.getcwd(),'wfcimages.tbl')"
   ]
  },
  {
   "cell_type": "code",
   "execution_count": 72,
   "metadata": {},
   "outputs": [],
   "source": [
    "myhdr = mMakeHdr('wfcimages.tbl','wfcimages.hdr')"
   ]
  },
  {
   "cell_type": "code",
   "execution_count": 74,
   "metadata": {},
   "outputs": [
    {
     "data": {
      "text/plain": [
       "{'status': '0', 'count': 62, 'failed': 0, 'nooverlap': 0}"
      ]
     },
     "execution_count": 74,
     "metadata": {},
     "output_type": "execute_result"
    }
   ],
   "source": [
    "rtn = mProjExec(os.getcwd(),'wfcimages.tbl','wfcimages.hdr',projdir=\"projected\",quickMode=True)"
   ]
  },
  {
   "cell_type": "code",
   "execution_count": 75,
   "metadata": {},
   "outputs": [
    {
     "data": {
      "text/plain": [
       "{'status': '0', 'count': 62, 'badfits': 0, 'badwcs': 0}"
      ]
     },
     "execution_count": 75,
     "metadata": {},
     "output_type": "execute_result"
    }
   ],
   "source": [
    "mImgtbl(\"projected\",\"pimages.tbl\")"
   ]
  },
  {
   "cell_type": "code",
   "execution_count": 76,
   "metadata": {},
   "outputs": [],
   "source": [
    "rtn = mOverlaps(\"pimages.tbl\",\"diffs.tbl\")"
   ]
  },
  {
   "cell_type": "code",
   "execution_count": 77,
   "metadata": {},
   "outputs": [],
   "source": [
    "rtn = mDiffFitExec(\"projected\",'diffs.tbl',\"wfcimages.hdr\",\"diffs\",\"fits.tbl\")"
   ]
  },
  {
   "cell_type": "code",
   "execution_count": null,
   "metadata": {},
   "outputs": [],
   "source": [
    "rtn = mBgModel(\"pimages.tbl\",\"fits.tbl\",\"corrections.tbl\")"
   ]
  }
 ],
 "metadata": {
  "kernelspec": {
   "display_name": "Python 3",
   "language": "python",
   "name": "python3"
  },
  "language_info": {
   "codemirror_mode": {
    "name": "ipython",
    "version": 3
   },
   "file_extension": ".py",
   "mimetype": "text/x-python",
   "name": "python",
   "nbconvert_exporter": "python",
   "pygments_lexer": "ipython3",
   "version": "3.7.4"
  }
 },
 "nbformat": 4,
 "nbformat_minor": 2
}
