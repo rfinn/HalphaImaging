{
 "cells": [
  {
   "cell_type": "markdown",
   "metadata": {},
   "source": [
    "# Bad Pixel Masks\n",
    "\n",
    "* I am creating bad pixel masks for the WFC@INT.\n",
    "* This has 4 ccds - making mask for each ccd.\n",
    "* The mask is created from the ratio of two flats.  The flats are from May 2019.\n",
    "* The data are stored on my laptop in /home/rfinn/data/ccdmask-test"
   ]
  },
  {
   "cell_type": "code",
   "execution_count": 39,
   "metadata": {},
   "outputs": [],
   "source": [
    "import os\n",
    "from matplotlib import pyplot as plt\n",
    "from astropy import units as u\n",
    "from astropy.nddata import CCDData"
   ]
  },
  {
   "cell_type": "code",
   "execution_count": 2,
   "metadata": {},
   "outputs": [],
   "source": [
    "os.chdir('/home/rfinn/data/ccdmask-test/')"
   ]
  },
  {
   "cell_type": "code",
   "execution_count": 40,
   "metadata": {
    "scrolled": true
   },
   "outputs": [
    {
     "name": "stdout",
     "output_type": "stream",
     "text": [
      "inactive\t\t\t     WFC.r.2019-05-30T20:37:31.1_3P.fits\r\n",
      "SKYFLAT-r_1.fits\t\t     WFC.r.2019-05-30T20:37:31.1_4P.fits\r\n",
      "SKYFLAT-r_2.fits\t\t     WFC.r.2019-05-30T20:38:52.6_1P.fits\r\n",
      "SKYFLAT-r_3.fits\t\t     WFC.r.2019-05-30T20:38:52.6_2P.fits\r\n",
      "SKYFLAT-r_4.fits\t\t     WFC.r.2019-05-30T20:38:52.6_3P.fits\r\n",
      "WFC.r.2019-05-29T20:37:12.6_1P.fits  WFC.r.2019-05-30T20:38:52.6_4P.fits\r\n",
      "WFC.r.2019-05-29T20:37:12.6_2P.fits  WFC.r.2019-05-30T20:40:12.8_1P.fits\r\n",
      "WFC.r.2019-05-29T20:37:12.6_3P.fits  WFC.r.2019-05-30T20:40:12.8_2P.fits\r\n",
      "WFC.r.2019-05-29T20:37:12.6_4P.fits  WFC.r.2019-05-30T20:40:12.8_3P.fits\r\n",
      "WFC.r.2019-05-29T20:38:52.3_1P.fits  WFC.r.2019-05-30T20:40:12.8_4P.fits\r\n",
      "WFC.r.2019-05-29T20:38:52.3_2P.fits  WFC.r.2019-05-30T20:41:45.0_1P.fits\r\n",
      "WFC.r.2019-05-29T20:38:52.3_3P.fits  WFC.r.2019-05-30T20:41:45.0_2P.fits\r\n",
      "WFC.r.2019-05-29T20:38:52.3_4P.fits  WFC.r.2019-05-30T20:41:45.0_3P.fits\r\n",
      "WFC.r.2019-05-29T20:40:41.1_1P.fits  WFC.r.2019-05-30T20:41:45.0_4P.fits\r\n",
      "WFC.r.2019-05-29T20:40:41.1_2P.fits  WFC.r.2019-05-30T20:43:25.9_1P.fits\r\n",
      "WFC.r.2019-05-29T20:40:41.1_3P.fits  WFC.r.2019-05-30T20:43:25.9_2P.fits\r\n",
      "WFC.r.2019-05-29T20:40:41.1_4P.fits  WFC.r.2019-05-30T20:43:25.9_3P.fits\r\n",
      "WFC.r.2019-05-29T20:42:36.3_1P.fits  WFC.r.2019-05-30T20:43:25.9_4P.fits\r\n",
      "WFC.r.2019-05-29T20:42:36.3_2P.fits  WFC.r.2019-05-30T20:45:47.9_1P.fits\r\n",
      "WFC.r.2019-05-29T20:42:36.3_3P.fits  WFC.r.2019-05-30T20:45:47.9_2P.fits\r\n",
      "WFC.r.2019-05-29T20:42:36.3_4P.fits  WFC.r.2019-05-30T20:45:47.9_3P.fits\r\n",
      "WFC.r.2019-05-30T05:28:24.5_1P.fits  WFC.r.2019-05-30T20:45:47.9_4P.fits\r\n",
      "WFC.r.2019-05-30T05:28:24.5_2P.fits  WFC.r.2019-05-31T20:39:58.4_1P.fits\r\n",
      "WFC.r.2019-05-30T05:28:24.5_3P.fits  WFC.r.2019-05-31T20:39:58.4_2P.fits\r\n",
      "WFC.r.2019-05-30T05:28:24.5_4P.fits  WFC.r.2019-05-31T20:39:58.4_3P.fits\r\n",
      "WFC.r.2019-05-30T05:31:24.5_1P.fits  WFC.r.2019-05-31T20:39:58.4_4P.fits\r\n",
      "WFC.r.2019-05-30T05:31:24.5_2P.fits  WFC.r.2019-05-31T20:41:29.3_1P.fits\r\n",
      "WFC.r.2019-05-30T05:31:24.5_3P.fits  WFC.r.2019-05-31T20:41:29.3_2P.fits\r\n",
      "WFC.r.2019-05-30T05:31:24.5_4P.fits  WFC.r.2019-05-31T20:41:29.3_3P.fits\r\n",
      "WFC.r.2019-05-30T05:33:44.7_1P.fits  WFC.r.2019-05-31T20:41:29.3_4P.fits\r\n",
      "WFC.r.2019-05-30T05:33:44.7_2P.fits  WFC.r.2019-05-31T20:43:00.4_1P.fits\r\n",
      "WFC.r.2019-05-30T05:33:44.7_3P.fits  WFC.r.2019-05-31T20:43:00.4_2P.fits\r\n",
      "WFC.r.2019-05-30T05:33:44.7_4P.fits  WFC.r.2019-05-31T20:43:00.4_3P.fits\r\n",
      "WFC.r.2019-05-30T05:35:41.2_1P.fits  WFC.r.2019-05-31T20:43:00.4_4P.fits\r\n",
      "WFC.r.2019-05-30T05:35:41.2_2P.fits  WFC.r.2019-06-01T20:30:19.5_1P.fits\r\n",
      "WFC.r.2019-05-30T05:35:41.2_3P.fits  WFC.r.2019-06-01T20:30:19.5_2P.fits\r\n",
      "WFC.r.2019-05-30T05:35:41.2_4P.fits  WFC.r.2019-06-01T20:30:19.5_3P.fits\r\n",
      "WFC.r.2019-05-30T05:38:03.6_1P.fits  WFC.r.2019-06-01T20:30:19.5_4P.fits\r\n",
      "WFC.r.2019-05-30T05:38:03.6_2P.fits  WFC.r.2019-06-03T20:46:50.2_1P.fits\r\n",
      "WFC.r.2019-05-30T05:38:03.6_3P.fits  WFC.r.2019-06-03T20:46:50.2_2P.fits\r\n",
      "WFC.r.2019-05-30T05:38:03.6_4P.fits  WFC.r.2019-06-03T20:46:50.2_3P.fits\r\n",
      "WFC.r.2019-05-30T20:37:31.1_1P.fits  WFC.r.2019-06-03T20:46:50.2_4P.fits\r\n",
      "WFC.r.2019-05-30T20:37:31.1_2P.fits\r\n"
     ]
    }
   ],
   "source": [
    "!ls"
   ]
  },
  {
   "cell_type": "markdown",
   "metadata": {},
   "source": [
    "Select the first and last images in the list"
   ]
  },
  {
   "cell_type": "code",
   "execution_count": 56,
   "metadata": {},
   "outputs": [],
   "source": [
    "#chip 1\n",
    "ccd1im1, ccd2im1, ccd3im1, ccd4im1 = ['WFC.r.2019-05-29T20:37:12.6_{}P.fits'.format(i) for i in range(1,5)]\n",
    "ccd1im2, ccd2im2, ccd3im2, ccd4im2 = ['WFC.r.2019-06-03T20:43:03.2_{}P.fits'.format(i) for i in range(1,5)]"
   ]
  },
  {
   "cell_type": "code",
   "execution_count": 42,
   "metadata": {},
   "outputs": [
    {
     "data": {
      "text/plain": [
       "'WFC.r.2019-05-29T20:37:12.6_1P.fits'"
      ]
     },
     "execution_count": 42,
     "metadata": {},
     "output_type": "execute_result"
    }
   ],
   "source": [
    "ccd1im1"
   ]
  },
  {
   "cell_type": "code",
   "execution_count": 44,
   "metadata": {},
   "outputs": [],
   "source": [
    "%run ~/github/HalphaImaging/python3/imutils.py"
   ]
  },
  {
   "cell_type": "code",
   "execution_count": 59,
   "metadata": {},
   "outputs": [
    {
     "name": "stderr",
     "output_type": "stream",
     "text": [
      "/home/rfinn/github/HalphaImaging/python3/imutils.py:23: RuntimeWarning: divide by zero encountered in true_divide\n",
      "  flatimage = flat1/flat2\n",
      "/home/rfinn/github/HalphaImaging/python3/imutils.py:23: RuntimeWarning: invalid value encountered in true_divide\n",
      "  flatimage = flat1/flat2\n",
      "/home/rfinn/anaconda3/lib/python3.7/site-packages/ccdproc/core.py:1802: RuntimeWarning: invalid value encountered in less\n",
      "  return ((baseline < -lower_sigma * one_sigma_value) |\n",
      "/home/rfinn/anaconda3/lib/python3.7/site-packages/ccdproc/core.py:1803: RuntimeWarning: invalid value encountered in greater\n",
      "  (baseline > upper_sigma * one_sigma_value))\n"
     ]
    }
   ],
   "source": [
    "mask1 = make_ccdmask(ccd1im1,ccd1im2)"
   ]
  },
  {
   "cell_type": "code",
   "execution_count": 60,
   "metadata": {},
   "outputs": [
    {
     "data": {
      "text/plain": [
       "<matplotlib.image.AxesImage at 0x7fd8642e6f50>"
      ]
     },
     "execution_count": 60,
     "metadata": {},
     "output_type": "execute_result"
    },
    {
     "data": {
      "image/png": "[encoded data removed]",
      "text/plain": [
       "<Figure size 288x576 with 1 Axes>"
      ]
     },
     "metadata": {
      "needs_background": "light"
     },
     "output_type": "display_data"
    }
   ],
   "source": [
    "plt.figure(figsize=(4,8))\n",
    "plt.imshow(mask1)"
   ]
  },
  {
   "cell_type": "code",
   "execution_count": 61,
   "metadata": {},
   "outputs": [],
   "source": [
    "mask2 = make_ccdmask(ccd2im1,ccd2im2)"
   ]
  },
  {
   "cell_type": "code",
   "execution_count": 62,
   "metadata": {
    "scrolled": false
   },
   "outputs": [
    {
     "data": {
      "text/plain": [
       "<matplotlib.image.AxesImage at 0x7fd86419ffd0>"
      ]
     },
     "execution_count": 62,
     "metadata": {},
     "output_type": "execute_result"
    },
    {
     "data": {
      "image/png": "[encoded data removed]",
      "text/plain": [
       "<Figure size 288x576 with 1 Axes>"
      ]
     },
     "metadata": {
      "needs_background": "light"
     },
     "output_type": "display_data"
    }
   ],
   "source": [
    "plt.figure(figsize=(4,8))\n",
    "plt.imshow(mask2)"
   ]
  },
  {
   "cell_type": "code",
   "execution_count": 63,
   "metadata": {},
   "outputs": [],
   "source": [
    "mask3 = make_ccdmask(ccd3im1,ccd3im2)"
   ]
  },
  {
   "cell_type": "code",
   "execution_count": 64,
   "metadata": {},
   "outputs": [
    {
     "data": {
      "text/plain": [
       "<matplotlib.image.AxesImage at 0x7fd86550fb90>"
      ]
     },
     "execution_count": 64,
     "metadata": {},
     "output_type": "execute_result"
    },
    {
     "data": {
      "image/png": "[encoded data removed]",
      "text/plain": [
       "<Figure size 288x576 with 1 Axes>"
      ]
     },
     "metadata": {
      "needs_background": "light"
     },
     "output_type": "display_data"
    }
   ],
   "source": [
    "plt.figure(figsize=(4,8))\n",
    "plt.imshow(mask3)"
   ]
  },
  {
   "cell_type": "code",
   "execution_count": 65,
   "metadata": {},
   "outputs": [],
   "source": [
    "mask4 = make_ccdmask(ccd4im1,ccd4im2)"
   ]
  },
  {
   "cell_type": "code",
   "execution_count": 66,
   "metadata": {},
   "outputs": [
    {
     "data": {
      "text/plain": [
       "<matplotlib.image.AxesImage at 0x7fd864003590>"
      ]
     },
     "execution_count": 66,
     "metadata": {},
     "output_type": "execute_result"
    },
    {
     "data": {
      "image/png": "[encoded data removed]",
      "text/plain": [
       "<Figure size 288x576 with 1 Axes>"
      ]
     },
     "metadata": {
      "needs_background": "light"
     },
     "output_type": "display_data"
    }
   ],
   "source": [
    "plt.figure(figsize=(4,8))\n",
    "plt.imshow(mask4)"
   ]
  },
  {
   "cell_type": "markdown",
   "metadata": {},
   "source": [
    "# Save masks a bad pixel masks"
   ]
  },
  {
   "cell_type": "code",
   "execution_count": 68,
   "metadata": {},
   "outputs": [],
   "source": [
    "maskarrays = [mask1,mask2,mask3,mask4]\n",
    "outfiles = ['WFCINTccdmask{}.fits'.format(i) for i in range(1,5)]\n",
    "for i in range(len(maskarrays)):\n",
    "    mask_as_ccd = CCDData(data=maskarrays[i].astype('uint8'), unit=u.dimensionless_unscaled)\n",
    "    mask_as_ccd.header['imagetyp'] = 'flat mask'\n",
    "    mask_as_ccd.write(outfiles[i],overwrite=True)\n"
   ]
  },
  {
   "cell_type": "code",
   "execution_count": null,
   "metadata": {},
   "outputs": [],
   "source": [
    "!ls WFCINTccd*"
   ]
  },
  {
   "cell_type": "code",
   "execution_count": null,
   "metadata": {},
   "outputs": [],
   "source": []
  }
 ],
 "metadata": {
  "kernelspec": {
   "display_name": "Python 3",
   "language": "python",
   "name": "python3"
  },
  "language_info": {
   "codemirror_mode": {
    "name": "ipython",
    "version": 3
   },
   "file_extension": ".py",
   "mimetype": "text/x-python",
   "name": "python",
   "nbconvert_exporter": "python",
   "pygments_lexer": "ipython3",
   "version": "3.7.4"
  }
 },
 "nbformat": 4,
 "nbformat_minor": 2
}
